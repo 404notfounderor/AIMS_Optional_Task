{
 "cells": [
  {
   "cell_type": "code",
   "execution_count": 12,
   "id": "daf199a3-f78f-4e35-b278-423d820080b9",
   "metadata": {},
   "outputs": [],
   "source": [
    "import pandas as pd\n",
    "import numpy as np\n",
    "from sklearn.preprocessing import OrdinalEncoder, OneHotEncoder"
   ]
  },
  {
   "cell_type": "code",
   "execution_count": 13,
   "id": "921423d3-8b6e-4cee-8d6e-7dca85ed7346",
   "metadata": {},
   "outputs": [],
   "source": [
    "arr=np.array([[1,'Delhi'],[2,'Mumbai'],[3,'Mumbai'],[4,'Delhi'],[5,'Kolkata'],[6,'Delhi'],[7,'Delhi'],[8,'Delhi'],[9,'Mumbai'],[10,'Kolkata']])\n",
    "city = arr[:, 1].reshape(-1, 1)"
   ]
  },
  {
   "cell_type": "code",
   "execution_count": 14,
   "id": "41c6d6f4-c8b2-42b6-aaed-50fefa10425d",
   "metadata": {},
   "outputs": [],
   "source": [
    "ordinal_city= city.copy()\n",
    "onehot_city= city.copy()"
   ]
  },
  {
   "cell_type": "code",
   "execution_count": 15,
   "id": "9996775b-5887-4152-b6a3-5fdf999a3ddd",
   "metadata": {},
   "outputs": [],
   "source": [
    "ordinal_encoder = OrdinalEncoder()\n",
    "ordinal_encoded = ordinal_encoder.fit_transform(ordinal_city)"
   ]
  },
  {
   "cell_type": "code",
   "execution_count": 17,
   "id": "b6ed2d6c-7493-4448-8c55-fbe79bf3ed3b",
   "metadata": {},
   "outputs": [
    {
     "name": "stdout",
     "output_type": "stream",
     "text": [
      "Original City Column:\n",
      " [['Delhi']\n",
      " ['Mumbai']\n",
      " ['Mumbai']\n",
      " ['Delhi']\n",
      " ['Kolkata']\n",
      " ['Delhi']\n",
      " ['Delhi']\n",
      " ['Delhi']\n",
      " ['Mumbai']\n",
      " ['Kolkata']]\n",
      "\n",
      "Ordinal Encoded Cities:\n",
      " [[0.]\n",
      " [2.]\n",
      " [2.]\n",
      " [0.]\n",
      " [1.]\n",
      " [0.]\n",
      " [0.]\n",
      " [0.]\n",
      " [2.]\n",
      " [1.]]\n"
     ]
    }
   ],
   "source": [
    "print(\"Original City Column:\\n\", city_column)\n",
    "print(\"\\nOrdinal Encoded Cities:\\n\", ordinal_encoded)"
   ]
  },
  {
   "cell_type": "code",
   "execution_count": 21,
   "id": "e1b2f816-2920-4e84-b10b-8ef5eb54627e",
   "metadata": {},
   "outputs": [
    {
     "name": "stderr",
     "output_type": "stream",
     "text": [
      "F:\\anaconda\\Lib\\site-packages\\sklearn\\preprocessing\\_encoders.py:868: FutureWarning: `sparse` was renamed to `sparse_output` in version 1.2 and will be removed in 1.4. `sparse_output` is ignored unless you leave `sparse` to its default value.\n",
      "  warnings.warn(\n"
     ]
    }
   ],
   "source": [
    "onehot_encoder = OneHotEncoder(sparse=False)\n",
    "onehot_encoded = onehot_encoder.fit_transform(onehot_city)"
   ]
  },
  {
   "cell_type": "code",
   "execution_count": 22,
   "id": "8989dcbe-581a-46e9-a354-a19d6e37361f",
   "metadata": {},
   "outputs": [
    {
     "name": "stdout",
     "output_type": "stream",
     "text": [
      "\n",
      "One Hot Encoded Cities:\n",
      " [[1. 0. 0.]\n",
      " [0. 0. 1.]\n",
      " [0. 0. 1.]\n",
      " [1. 0. 0.]\n",
      " [0. 1. 0.]\n",
      " [1. 0. 0.]\n",
      " [1. 0. 0.]\n",
      " [1. 0. 0.]\n",
      " [0. 0. 1.]\n",
      " [0. 1. 0.]]\n"
     ]
    }
   ],
   "source": [
    "print(\"\\nOne Hot Encoded Cities:\\n\", onehot_encoded)"
   ]
  },
  {
   "cell_type": "code",
   "execution_count": null,
   "id": "e0118dcd-2df4-4d21-be49-df3385ac1630",
   "metadata": {},
   "outputs": [],
   "source": []
  }
 ],
 "metadata": {
  "kernelspec": {
   "display_name": "Python 3 (ipykernel)",
   "language": "python",
   "name": "python3"
  },
  "language_info": {
   "codemirror_mode": {
    "name": "ipython",
    "version": 3
   },
   "file_extension": ".py",
   "mimetype": "text/x-python",
   "name": "python",
   "nbconvert_exporter": "python",
   "pygments_lexer": "ipython3",
   "version": "3.11.7"
  }
 },
 "nbformat": 4,
 "nbformat_minor": 5
}
